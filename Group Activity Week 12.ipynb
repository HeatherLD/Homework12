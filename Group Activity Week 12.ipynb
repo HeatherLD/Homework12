{
 "cells": [
  {
   "cell_type": "markdown",
   "id": "82bd788a",
   "metadata": {},
   "source": [
    "# Group Activity Week 12, Heather Leighton-Dick"
   ]
  },
  {
   "cell_type": "code",
   "execution_count": 22,
   "id": "4507cf56",
   "metadata": {},
   "outputs": [],
   "source": [
    "import numpy as np\n",
    "import pandas as pd\n",
    "import math\n",
    "import statistics\n",
    "from scipy import stats\n",
    "import matplotlib.pyplot as plt\n",
    "import seaborn as sns\n",
    "from scipy.stats import poisson\n",
    "\n",
    "from statsmodels.graphics.tsaplots import plot_pacf\n",
    "from statsmodels.graphics.tsaplots import plot_acf\n",
    "from statsmodels.tsa.statespace.sarimax import SARIMAX\n",
    "from statsmodels.tsa.holtwinters import ExponentialSmoothing\n",
    "from statsmodels.tsa.stattools import adfuller\n",
    "#from tqdm import tqdm_notebook\n",
    "#from itertools import product\n",
    "import warnings\n",
    "warnings.filterwarnings('ignore')"
   ]
  },
  {
   "cell_type": "markdown",
   "id": "e8138b86",
   "metadata": {},
   "source": [
    "### 1. Write a lambda function to rearrange positive and negative numbers in a given list:\n",
    "\n",
    "Sample output:\n",
    "\n",
    "original_list = [-1,2,-3,4,-5,6,-7,8,-9,10,-11,12]\n",
    "\n",
    "resulting_list = [2,4,6,8,10,12,-11,-9,-7,-5,-3,-1]"
   ]
  },
  {
   "cell_type": "code",
   "execution_count": 40,
   "id": "1876b102",
   "metadata": {},
   "outputs": [
    {
     "ename": "SyntaxError",
     "evalue": "invalid syntax (512290586.py, line 4)",
     "output_type": "error",
     "traceback": [
      "\u001b[0;36m  File \u001b[0;32m\"/var/folders/_g/ndr230vr8xj4_h001s7lzdlh0000gp/T/ipykernel_34033/512290586.py\"\u001b[0;36m, line \u001b[0;32m4\u001b[0m\n\u001b[0;31m    new_list = list(filter(lambda arr: [x for x in arr if x >= 0])) + sorted(list(filter[x for x in arr if x < 0]))\u001b[0m\n\u001b[0m                                                                                           ^\u001b[0m\n\u001b[0;31mSyntaxError\u001b[0m\u001b[0;31m:\u001b[0m invalid syntax\n"
     ]
    }
   ],
   "source": [
    "# initializing a list\n",
    "arr = [-1,2,-3,4,-5,6,-7,8,-9,10,-11,12]\n",
    "# lambda expression\n",
    "new_list = list(filter(lambda arr: [x for x in arr if x >= 0])) + sorted(list(filter[x for x in arr if x < 0]))\n",
    "# rearranging the arr\n",
    "\n",
    "new_arr = rearrange_numbers(arr)\n",
    "# printing the resultant array\n",
    "print(new_arr)"
   ]
  },
  {
   "cell_type": "markdown",
   "id": "843ac836",
   "metadata": {},
   "source": [
    "### 2 Create a new dataframe using week_11/temperatures/temperature.csv file\n",
    "from last class. It should have the datetime column and one of the cities.\n",
    "Create a new boolean column called is_freezing that indicates if the\n",
    "temperature is at or below freezing. Use a lambda to create this column. Is\n",
    "there a better way to do this than with a lambda?\n"
   ]
  },
  {
   "cell_type": "code",
   "execution_count": 46,
   "id": "525abc19",
   "metadata": {},
   "outputs": [
    {
     "name": "stdout",
     "output_type": "stream",
     "text": [
      "          datetime   Vancouver    Portland  San Francisco     Seattle  \\\n",
      "0  10/1/2012 12:00         NaN         NaN            NaN         NaN   \n",
      "1  10/1/2012 13:00  284.630000  282.080000     289.480000  281.800000   \n",
      "2  10/1/2012 14:00  284.629041  282.083252     289.474993  281.797217   \n",
      "3  10/1/2012 15:00  284.626998  282.091866     289.460618  281.789833   \n",
      "4  10/1/2012 16:00  284.624955  282.100481     289.446243  281.782449   \n",
      "\n",
      "   Los Angeles   San Diego   Las Vegas     Phoenix  Albuquerque  ...  \\\n",
      "0          NaN         NaN         NaN         NaN          NaN  ...   \n",
      "1   291.870000  291.530000  293.410000  296.600000   285.120000  ...   \n",
      "2   291.868185  291.533501  293.403141  296.608509   285.154558  ...   \n",
      "3   291.862844  291.543355  293.392177  296.631487   285.233952  ...   \n",
      "4   291.857503  291.553209  293.381213  296.654466   285.313345  ...   \n",
      "\n",
      "   Philadelphia    New York    Montreal      Boston   Beersheba  \\\n",
      "0           NaN         NaN         NaN         NaN         NaN   \n",
      "1    285.630000  288.220000  285.830000  287.170000  307.590000   \n",
      "2    285.663208  288.247676  285.834650  287.186092  307.590000   \n",
      "3    285.756824  288.326940  285.847789  287.231672  307.391513   \n",
      "4    285.850440  288.406203  285.860929  287.277251  307.145200   \n",
      "\n",
      "   Tel Aviv District       Eilat  Haifa  Nahariyya  Jerusalem  \n",
      "0                NaN  309.100000    NaN        NaN        NaN  \n",
      "1         305.470000  310.580000  304.4      304.4      303.5  \n",
      "2         304.310000  310.495769  304.4      304.4      303.5  \n",
      "3         304.281841  310.411539  304.4      304.4      303.5  \n",
      "4         304.238015  310.327308  304.4      304.4      303.5  \n",
      "\n",
      "[5 rows x 37 columns]\n",
      "45253\n"
     ]
    }
   ],
   "source": [
    "#bring in csv and convert it to a dataframe\n",
    "temperature_path = \"temperature.csv\"\n",
    "temperature_df = pd.read_csv(temperature_path)\n",
    "temperature_df = pd.DataFrame(temperature_df)\n",
    "print(temperature_df.head(5))\n",
    "print(len(temperature_df))\n",
    "#273.15"
   ]
  },
  {
   "cell_type": "code",
   "execution_count": 47,
   "id": "a0396c16",
   "metadata": {},
   "outputs": [
    {
     "data": {
      "text/html": [
       "<div>\n",
       "<style scoped>\n",
       "    .dataframe tbody tr th:only-of-type {\n",
       "        vertical-align: middle;\n",
       "    }\n",
       "\n",
       "    .dataframe tbody tr th {\n",
       "        vertical-align: top;\n",
       "    }\n",
       "\n",
       "    .dataframe thead th {\n",
       "        text-align: right;\n",
       "    }\n",
       "</style>\n",
       "<table border=\"1\" class=\"dataframe\">\n",
       "  <thead>\n",
       "    <tr style=\"text-align: right;\">\n",
       "      <th></th>\n",
       "      <th>datetime</th>\n",
       "      <th>Vancouver</th>\n",
       "    </tr>\n",
       "  </thead>\n",
       "  <tbody>\n",
       "    <tr>\n",
       "      <th>0</th>\n",
       "      <td>10/1/2012 12:00</td>\n",
       "      <td>NaN</td>\n",
       "    </tr>\n",
       "    <tr>\n",
       "      <th>1</th>\n",
       "      <td>10/1/2012 13:00</td>\n",
       "      <td>284.630000</td>\n",
       "    </tr>\n",
       "    <tr>\n",
       "      <th>2</th>\n",
       "      <td>10/1/2012 14:00</td>\n",
       "      <td>284.629041</td>\n",
       "    </tr>\n",
       "    <tr>\n",
       "      <th>3</th>\n",
       "      <td>10/1/2012 15:00</td>\n",
       "      <td>284.626998</td>\n",
       "    </tr>\n",
       "    <tr>\n",
       "      <th>4</th>\n",
       "      <td>10/1/2012 16:00</td>\n",
       "      <td>284.624955</td>\n",
       "    </tr>\n",
       "  </tbody>\n",
       "</table>\n",
       "</div>"
      ],
      "text/plain": [
       "          datetime   Vancouver\n",
       "0  10/1/2012 12:00         NaN\n",
       "1  10/1/2012 13:00  284.630000\n",
       "2  10/1/2012 14:00  284.629041\n",
       "3  10/1/2012 15:00  284.626998\n",
       "4  10/1/2012 16:00  284.624955"
      ]
     },
     "execution_count": 47,
     "metadata": {},
     "output_type": "execute_result"
    }
   ],
   "source": [
    "temperature_df_Vancouver = temperature_df.filter([\"datetime\", \"Vancouver\"], axis=1)\n",
    "temperature_df_Vancouver.head()"
   ]
  },
  {
   "cell_type": "code",
   "execution_count": 17,
   "id": "1689b265",
   "metadata": {},
   "outputs": [
    {
     "data": {
      "text/html": [
       "<div>\n",
       "<style scoped>\n",
       "    .dataframe tbody tr th:only-of-type {\n",
       "        vertical-align: middle;\n",
       "    }\n",
       "\n",
       "    .dataframe tbody tr th {\n",
       "        vertical-align: top;\n",
       "    }\n",
       "\n",
       "    .dataframe thead th {\n",
       "        text-align: right;\n",
       "    }\n",
       "</style>\n",
       "<table border=\"1\" class=\"dataframe\">\n",
       "  <thead>\n",
       "    <tr style=\"text-align: right;\">\n",
       "      <th></th>\n",
       "      <th>datetime</th>\n",
       "      <th>Vancouver</th>\n",
       "      <th>is_freezing</th>\n",
       "    </tr>\n",
       "  </thead>\n",
       "  <tbody>\n",
       "    <tr>\n",
       "      <th>1</th>\n",
       "      <td>2012-10-01 13:00:00</td>\n",
       "      <td>284.630000</td>\n",
       "      <td>False</td>\n",
       "    </tr>\n",
       "    <tr>\n",
       "      <th>2</th>\n",
       "      <td>2012-10-01 14:00:00</td>\n",
       "      <td>284.629041</td>\n",
       "      <td>False</td>\n",
       "    </tr>\n",
       "    <tr>\n",
       "      <th>3</th>\n",
       "      <td>2012-10-01 15:00:00</td>\n",
       "      <td>284.626998</td>\n",
       "      <td>False</td>\n",
       "    </tr>\n",
       "    <tr>\n",
       "      <th>4</th>\n",
       "      <td>2012-10-01 16:00:00</td>\n",
       "      <td>284.624955</td>\n",
       "      <td>False</td>\n",
       "    </tr>\n",
       "    <tr>\n",
       "      <th>5</th>\n",
       "      <td>2012-10-01 17:00:00</td>\n",
       "      <td>284.622911</td>\n",
       "      <td>False</td>\n",
       "    </tr>\n",
       "    <tr>\n",
       "      <th>...</th>\n",
       "      <td>...</td>\n",
       "      <td>...</td>\n",
       "      <td>...</td>\n",
       "    </tr>\n",
       "    <tr>\n",
       "      <th>44456</th>\n",
       "      <td>2017-10-27 20:00:00</td>\n",
       "      <td>286.440000</td>\n",
       "      <td>False</td>\n",
       "    </tr>\n",
       "    <tr>\n",
       "      <th>44457</th>\n",
       "      <td>2017-10-27 21:00:00</td>\n",
       "      <td>287.870000</td>\n",
       "      <td>False</td>\n",
       "    </tr>\n",
       "    <tr>\n",
       "      <th>44458</th>\n",
       "      <td>2017-10-27 22:00:00</td>\n",
       "      <td>288.420000</td>\n",
       "      <td>False</td>\n",
       "    </tr>\n",
       "    <tr>\n",
       "      <th>44459</th>\n",
       "      <td>2017-10-27 23:00:00</td>\n",
       "      <td>288.650000</td>\n",
       "      <td>False</td>\n",
       "    </tr>\n",
       "    <tr>\n",
       "      <th>44460</th>\n",
       "      <td>2017-10-28 00:00:00</td>\n",
       "      <td>288.010000</td>\n",
       "      <td>False</td>\n",
       "    </tr>\n",
       "  </tbody>\n",
       "</table>\n",
       "<p>44458 rows × 3 columns</p>\n",
       "</div>"
      ],
      "text/plain": [
       "                 datetime   Vancouver  is_freezing\n",
       "1     2012-10-01 13:00:00  284.630000        False\n",
       "2     2012-10-01 14:00:00  284.629041        False\n",
       "3     2012-10-01 15:00:00  284.626998        False\n",
       "4     2012-10-01 16:00:00  284.624955        False\n",
       "5     2012-10-01 17:00:00  284.622911        False\n",
       "...                   ...         ...          ...\n",
       "44456 2017-10-27 20:00:00  286.440000        False\n",
       "44457 2017-10-27 21:00:00  287.870000        False\n",
       "44458 2017-10-27 22:00:00  288.420000        False\n",
       "44459 2017-10-27 23:00:00  288.650000        False\n",
       "44460 2017-10-28 00:00:00  288.010000        False\n",
       "\n",
       "[44458 rows x 3 columns]"
      ]
     },
     "execution_count": 17,
     "metadata": {},
     "output_type": "execute_result"
    }
   ],
   "source": [
    "temperature_df_Vancouver[\"datetime\"] = pd.to_datetime(temperature_df_Vancouver[\"datetime\"])\n",
    "temperature_df_Vancouver.head()\n",
    "temperature_df_Vancouver.dropna()"
   ]
  },
  {
   "cell_type": "code",
   "execution_count": 49,
   "id": "8ed6ee94",
   "metadata": {},
   "outputs": [
    {
     "data": {
      "text/plain": [
       "55069.006906538"
      ]
     },
     "execution_count": 49,
     "metadata": {},
     "output_type": "execute_result"
    }
   ],
   "source": [
    "import time\n",
    "\n",
    "time.perf_counter()\n",
    "temperature_df_Vancouver[\"is_freezing\"] = temperature_df_Vancouver.apply(lambda x:True if x[\"Vancouver\"]<= 273.15 else False, axis=1)\n",
    "#temperature_df_Vancouver.head(5)\n",
    "temperature_df_Vancouver[\"is_freezing\"].value_counts()\n",
    "time.perf_counter()"
   ]
  },
  {
   "cell_type": "markdown",
   "id": "f9fe878d",
   "metadata": {},
   "source": [
    "Is there a better way to do this than with a lambda? "
   ]
  },
  {
   "cell_type": "code",
   "execution_count": 45,
   "id": "5d14608a",
   "metadata": {},
   "outputs": [
    {
     "data": {
      "text/plain": [
       "54996.716736097"
      ]
     },
     "execution_count": 45,
     "metadata": {},
     "output_type": "execute_result"
    }
   ],
   "source": [
    "#use timer function - best way? find another method and time it\n",
    "import time\n",
    "\n",
    "time.perf_counter()\n",
    "\n",
    "def function(x):\n",
    "    if x > 273.15:\n",
    "        return True\n",
    "    if x < 273.15:\n",
    "        return False\n",
    "    else:\n",
    "        pass\n",
    "    \n",
    "time.perf_counter() \n",
    "\n",
    "#brainstorming: temperature_df_Vancouver[\"is_freezing2\"] = temperature_df_Vancouver ... pandas code that evaluates and arranges?"
   ]
  },
  {
   "cell_type": "markdown",
   "id": "24114afc",
   "metadata": {},
   "source": [
    "### Based on the performance counter results, the function in the second pane is ever so slightly more efficient, if I'm interpreting them correctly (i.e. it's showing the number of \"events\" as the program runs."
   ]
  },
  {
   "cell_type": "markdown",
   "id": "008b3b1c",
   "metadata": {},
   "source": [
    "### BONUS: if you still have time, try to do a pivot of the data in question 2 so you have the hourly data for all the cities and a flag for if it's freezing."
   ]
  },
  {
   "cell_type": "code",
   "execution_count": null,
   "id": "2ab4f7c3",
   "metadata": {},
   "outputs": [],
   "source": []
  }
 ],
 "metadata": {
  "kernelspec": {
   "display_name": "Python 3 (ipykernel)",
   "language": "python",
   "name": "python3"
  },
  "language_info": {
   "codemirror_mode": {
    "name": "ipython",
    "version": 3
   },
   "file_extension": ".py",
   "mimetype": "text/x-python",
   "name": "python",
   "nbconvert_exporter": "python",
   "pygments_lexer": "ipython3",
   "version": "3.9.7"
  }
 },
 "nbformat": 4,
 "nbformat_minor": 5
}
